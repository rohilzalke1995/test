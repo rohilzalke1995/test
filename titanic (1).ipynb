
# coding: utf-8

# In[1]:

import pandas as pd
get_ipython().magic(u'matplotlib inline')
import matplotlib.pyplot as plt
import os


# In[2]:

print(os.getcwd())
os.chdir("F:\Titanic project")
print(os.getcwd())
df = pd.read_csv("train.csv")


# In[3]:

df.head()
len(df)


# In[4]:

df.shape


# In[5]:

df.Survived.value_counts()


# In[6]:

df[df.Sex == "male"].Survived.value_counts()


# In[7]:

df[(df.Sex == "female") & (df.Age <=15)].Survived.value_counts()


# ### EDA
# Learn About the data
# 
# for each variable : 
# <l1> It is catagorical?
# <l2> If it is not then find out min,max and avarage count value?
# <l3> If it is........... what are the catagories
# <l4> Are there any missing value
# <l5> Something about the distribution of the variable

# In[8]:

df[df.Cabin.isnull()].shape


# In[9]:

df.Fare.value_counts()


# In[10]:

df.describe()


# In[11]:

df[df.Age.isnull()]


# In[12]:

df.Fare.hist(bins = 9)


# In[13]:

df[df.Fare == 0].shape


# In[14]:

fig, axs = plt.subplots(1,2)
df[df.Sex == "male"].Survived.value_counts().plot(kind = "barh",ax = axs[0],title = "Male Survived")
df[df.Sex == "female"].Survived.value_counts().plot(kind = "barh",ax = axs[1],title = "Female Survived")


# In[15]:

df[df.Age <=15].Survived.value_counts().plot(kind = "barh")


# In[16]:

fig, axs = plt.subplots(1,2)
df[(df.Age <=15) & (df.Sex == "male")].Survived.value_counts().plot(kind = "barh", ax=axs[0])
df[(df.Age < 15) & (df.Sex == "female")].Survived.value_counts().plot(kind = "barh",ax = axs[1])


# # Missing value handling

# In[17]:

df[df.Age.isnull()]


# Handling missing age
# 
# stratagis:
# <l1> Drop any oservation in missing age
# <l2> Set NaN to 0 to any catagories / catagorical column new catagorical for Nan?.
# <l3> Use some avarge value.
# <l4> create some machine learning algorithm to predict the missing value.

# In[18]:

avgAge = df.Age.mean()


# In[19]:

avgAge


# In[20]:

df.Age = df.Age.fillna(value = avgAge)


# In[21]:

df[df.Age.isnull()]


# In[22]:

df.Age.isnull().count()


# # Titanic data analysis with machine learning

# In[28]:

fig = plt.figure(figsize = (15,6))
plt.subplot2grid((2,3),(0,0))
df.Survived.value_counts(normalize = True).plot(kind = "bar")
plt.title("Survived")

plt.subplot2grid((2,3),(0,1))
plt.scatter(df.Survived,df.Age)
plt.title("Survived with age")


plt.subplot2grid((2,3),(0,2))
df.Pclass.value_counts(normalize = True).plot(kind = "bar")
plt.title("Class")


plt.subplot2grid((2,3),(1,0),colspan=2)
for x in [1,2,3]:
    df.Age[df.Pclass == x].plot(kind = "kde")
plt.title("Class wrt age")
plt.legend(("1st","2nd","3rd"))


plt.show()


# In[42]:

fig = plt.figure(figsize=(15,6))

female_color = "#FA0000"
plt.subplot2grid((3,4),(0,0))
df.Survived.value_counts(normalize = True).plot(kind = "bar", alpha = .5)
plt.title("Survived")

plt.subplot2grid((3,4),(0,1))
df.Survived[df.Sex == "male"].value_counts(normalize = True).plot(kind = "bar", alpha = .5)
plt.title("Survived With Male")

plt.subplot2grid((3,4),(0,2))
df.Survived[df.Sex == "female"].value_counts(normalize = True).plot(kind = "bar",alpha = .5,color = female_color)
plt.title("Survived With Female")

plt.show()


# In[ ]:



